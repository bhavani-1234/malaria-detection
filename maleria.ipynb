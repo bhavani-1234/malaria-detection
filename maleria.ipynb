{
  "cells": [
    {
      "cell_type": "code",
      "execution_count": null,
      "id": "84d3efeb",
      "metadata": {
        "id": "84d3efeb"
      },
      "outputs": [],
      "source": [
        "''' IMPORTING PACKAGES '''\n",
        "import numpy as np\n",
        "import tensorflow as tf\n",
        "from tensorflow import keras\n",
        "from tensorflow.keras.layers import Dropout , Dense , Flatten , Conv2D , MaxPooling2D \n",
        "from keras.callbacks import EarlyStopping\n",
        "import os\n",
        "import random\n",
        "import cv2\n",
        "import pandas as pd"
      ]
    },
    {
      "cell_type": "code",
      "execution_count": null,
      "id": "9dcc86ce",
      "metadata": {
        "id": "9dcc86ce",
        "colab": {
          "base_uri": "https://localhost:8080/",
          "height": 217
        },
        "outputId": "f711faf4-61c8-4263-a4da-138a4d102f10"
      },
      "outputs": [
        {
          "output_type": "error",
          "ename": "FileNotFoundError",
          "evalue": "ignored",
          "traceback": [
            "\u001b[0;31m---------------------------------------------------------------------------\u001b[0m",
            "\u001b[0;31mFileNotFoundError\u001b[0m                         Traceback (most recent call last)",
            "\u001b[0;32m<ipython-input-4-a3f57271ca2b>\u001b[0m in \u001b[0;36m<module>\u001b[0;34m\u001b[0m\n\u001b[1;32m      7\u001b[0m \u001b[0mx_test\u001b[0m \u001b[0;34m=\u001b[0m \u001b[0;34m[\u001b[0m\u001b[0;34m]\u001b[0m\u001b[0;34m\u001b[0m\u001b[0;34m\u001b[0m\u001b[0m\n\u001b[1;32m      8\u001b[0m \u001b[0my_test\u001b[0m \u001b[0;34m=\u001b[0m \u001b[0;34m[\u001b[0m\u001b[0;34m]\u001b[0m\u001b[0;34m\u001b[0m\u001b[0;34m\u001b[0m\u001b[0m\n\u001b[0;32m----> 9\u001b[0;31m \u001b[0mCATEGORIES\u001b[0m \u001b[0;34m=\u001b[0m \u001b[0;34m[\u001b[0m\u001b[0mc\u001b[0m \u001b[0;32mfor\u001b[0m \u001b[0mc\u001b[0m \u001b[0;32min\u001b[0m \u001b[0mos\u001b[0m\u001b[0;34m.\u001b[0m\u001b[0mlistdir\u001b[0m\u001b[0;34m(\u001b[0m\u001b[0mDATADIRTRAIN\u001b[0m\u001b[0;34m)\u001b[0m\u001b[0;34m]\u001b[0m\u001b[0;34m\u001b[0m\u001b[0;34m\u001b[0m\u001b[0m\n\u001b[0m\u001b[1;32m     10\u001b[0m \u001b[0mcatlen\u001b[0m\u001b[0;34m=\u001b[0m\u001b[0mlen\u001b[0m\u001b[0;34m(\u001b[0m\u001b[0mCATEGORIES\u001b[0m\u001b[0;34m)\u001b[0m\u001b[0;34m\u001b[0m\u001b[0;34m\u001b[0m\u001b[0m\n",
            "\u001b[0;31mFileNotFoundError\u001b[0m: [Errno 2] No such file or directory: 'D:/maleria'"
          ]
        }
      ],
      "source": [
        "'''DECALARING THE VARS'''\n",
        "DATADIRTRAIN =\"D:/maleria\"\n",
        "data_set = []\n",
        "IMG_SIZE = 128\n",
        "x_train = []\n",
        "y_train = []\n",
        "x_test = []\n",
        "y_test = []\n",
        "CATEGORIES = [c for c in os.listdir(DATADIRTRAIN)]\n",
        "catlen=len(CATEGORIES)"
      ]
    },
    {
      "cell_type": "code",
      "execution_count": null,
      "id": "d2da2314",
      "metadata": {
        "id": "d2da2314"
      },
      "outputs": [],
      "source": [
        "'''TRAIN DATA SET CREATION'''\n",
        "for category in CATEGORIES:\n",
        "    path = os.path.join(DATADIRTRAIN, category)\n",
        "    class_num = CATEGORIES.index(category)\n",
        "    for img in os.listdir(path):\n",
        "        try:\n",
        "            img_array = cv2.imread(os.path.join(path, img))\n",
        "            new_array = cv2.resize(img_array, (IMG_SIZE, IMG_SIZE))\n",
        "            data_set.append([new_array, class_num])\n",
        "            random.shuffle(data_set)\n",
        "        except:\n",
        "            pass\n"
      ]
    },
    {
      "cell_type": "code",
      "execution_count": null,
      "id": "1714c235",
      "metadata": {
        "id": "1714c235"
      },
      "outputs": [],
      "source": [
        "for features,label in data_set:\n",
        "    x_train.append(features)\n",
        "    y_train.append(label)\n",
        "x_train=np.array(x_train).reshape(-1,IMG_SIZE,IMG_SIZE,3)\n",
        "x_train=x_train/255        \n",
        "y_train=np.array(y_train)"
      ]
    },
    {
      "cell_type": "code",
      "execution_count": null,
      "id": "e3bcfe73",
      "metadata": {
        "id": "e3bcfe73"
      },
      "outputs": [],
      "source": [
        "data_set=[]"
      ]
    },
    {
      "cell_type": "code",
      "execution_count": null,
      "id": "f5885897",
      "metadata": {
        "id": "f5885897"
      },
      "outputs": [],
      "source": [
        "model = keras.Sequential()\n",
        "model.add(Conv2D(128,(3,3),activation='relu',input_shape=(128,128,3)))\n",
        "model.add(MaxPooling2D((2,2)))\n",
        "model.add(Conv2D(256,(3,3),activation='relu'))\n",
        "model.add(MaxPooling2D((2,2)))\n",
        "model.add(Conv2D(512,(3,3),activation='relu'))\n",
        "model.add(MaxPooling2D((2,2)))\n",
        "model.add(Conv2D(1024,(3,3),activation='relu'))\n",
        "model.add(MaxPooling2D((2,2)))\n",
        "model.add(Flatten())\n",
        "model.add(Dense(512,activation='relu'))\n",
        "model.add(Dense(256,activation='relu'))\n",
        "model.add(Dense(124,activation='relu'))\n",
        "model.add(Dropout(0.2))\n",
        "model.add(Dense(catlen,activation='softmax'))"
      ]
    },
    {
      "cell_type": "code",
      "execution_count": null,
      "id": "6254a5b5",
      "metadata": {
        "id": "6254a5b5",
        "outputId": "cc335e32-dfb0-4c1c-e26e-f1ea35dca3c3"
      },
      "outputs": [
        {
          "name": "stdout",
          "output_type": "stream",
          "text": [
            "Epoch 1/10\n",
            "776/776 [==============================] - 3242s 4s/step - loss: 0.5406 - accuracy: 0.6595 - val_loss: 0.1353 - val_accuracy: 0.9586\n",
            "Epoch 2/10\n",
            "776/776 [==============================] - 3027s 4s/step - loss: 0.1517 - accuracy: 0.9546 - val_loss: 0.1419 - val_accuracy: 0.9583\n",
            "Epoch 3/10\n",
            "776/776 [==============================] - 2932s 4s/step - loss: 0.1406 - accuracy: 0.9564 - val_loss: 0.1390 - val_accuracy: 0.9561\n",
            "Epoch 4/10\n",
            "776/776 [==============================] - 2916s 4s/step - loss: 0.1270 - accuracy: 0.9588 - val_loss: 0.1194 - val_accuracy: 0.9619\n",
            "Epoch 5/10\n",
            "776/776 [==============================] - 2821s 4s/step - loss: 0.1194 - accuracy: 0.9596 - val_loss: 0.1122 - val_accuracy: 0.9615\n",
            "Epoch 6/10\n",
            "776/776 [==============================] - 2778s 4s/step - loss: 0.1249 - accuracy: 0.9607 - val_loss: 0.1157 - val_accuracy: 0.9637\n",
            "Epoch 7/10\n",
            "776/776 [==============================] - 2881s 4s/step - loss: 0.1092 - accuracy: 0.9634 - val_loss: 0.1346 - val_accuracy: 0.9601\n",
            "Epoch 8/10\n",
            "776/776 [==============================] - 2888s 4s/step - loss: 0.0956 - accuracy: 0.9677 - val_loss: 0.1308 - val_accuracy: 0.9561\n",
            "Epoch 9/10\n",
            "776/776 [==============================] - 2866s 4s/step - loss: 0.0888 - accuracy: 0.9695 - val_loss: 0.1215 - val_accuracy: 0.9590\n",
            "Epoch 00009: early stopping\n"
          ]
        }
      ],
      "source": [
        "model.compile(loss='sparse_categorical_crossentropy',optimizer='adam',metrics=['accuracy'])\n",
        "early_stop = EarlyStopping(mode='min',verbose=1,patience=4)nvidia\n",
        "history = model.fit(x_train,y_train,epochs=10,validation_split=0.1,callbacks=[early_stop])"
      ]
    },
    {
      "cell_type": "code",
      "execution_count": null,
      "id": "91a16cc4",
      "metadata": {
        "id": "91a16cc4"
      },
      "outputs": [],
      "source": [
        "model.save(\"maleria_model_1.hdf5\")"
      ]
    },
    {
      "cell_type": "code",
      "execution_count": null,
      "id": "2999a660",
      "metadata": {
        "id": "2999a660",
        "outputId": "f8f9de7d-efcb-420c-c184-3b3441cdc099"
      },
      "outputs": [
        {
          "name": "stdout",
          "output_type": "stream",
          "text": [
            "Model: \"sequential\"\n",
            "_________________________________________________________________\n",
            "Layer (type)                 Output Shape              Param #   \n",
            "=================================================================\n",
            "conv2d (Conv2D)              (None, 126, 126, 128)     3584      \n",
            "_________________________________________________________________\n",
            "max_pooling2d (MaxPooling2D) (None, 63, 63, 128)       0         \n",
            "_________________________________________________________________\n",
            "conv2d_1 (Conv2D)            (None, 61, 61, 256)       295168    \n",
            "_________________________________________________________________\n",
            "max_pooling2d_1 (MaxPooling2 (None, 30, 30, 256)       0         \n",
            "_________________________________________________________________\n",
            "conv2d_2 (Conv2D)            (None, 28, 28, 512)       1180160   \n",
            "_________________________________________________________________\n",
            "max_pooling2d_2 (MaxPooling2 (None, 14, 14, 512)       0         \n",
            "_________________________________________________________________\n",
            "conv2d_3 (Conv2D)            (None, 12, 12, 1024)      4719616   \n",
            "_________________________________________________________________\n",
            "max_pooling2d_3 (MaxPooling2 (None, 6, 6, 1024)        0         \n",
            "_________________________________________________________________\n",
            "flatten (Flatten)            (None, 36864)             0         \n",
            "_________________________________________________________________\n",
            "dense (Dense)                (None, 512)               18874880  \n",
            "_________________________________________________________________\n",
            "dense_1 (Dense)              (None, 256)               131328    \n",
            "_________________________________________________________________\n",
            "dense_2 (Dense)              (None, 124)               31868     \n",
            "_________________________________________________________________\n",
            "dropout (Dropout)            (None, 124)               0         \n",
            "_________________________________________________________________\n",
            "dense_3 (Dense)              (None, 2)                 250       \n",
            "=================================================================\n",
            "Total params: 25,236,854\n",
            "Trainable params: 25,236,854\n",
            "Non-trainable params: 0\n",
            "_________________________________________________________________\n"
          ]
        }
      ],
      "source": [
        "model.summary()"
      ]
    },
    {
      "cell_type": "code",
      "execution_count": null,
      "id": "401d0af0",
      "metadata": {
        "id": "401d0af0",
        "outputId": "2bd2be20-4dbb-4274-e348-a789518d7dc2"
      },
      "outputs": [
        {
          "data": {
            "image/png": "[encoded data removed]",
            "text/plain": [
              "<Figure size 432x288 with 1 Axes>"
            ]
          },
          "metadata": {
            "needs_background": "light"
          },
          "output_type": "display_data"
        }
      ],
      "source": [
        "import matplotlib.pyplot as plt\n",
        "%matplotlib inline\n",
        "plt.plot(history.history['accuracy'])\n",
        "plt.plot(history.history['val_accuracy'])\n",
        "plt.title(\"Accuracy\")\n",
        "plt.xlabel(\"Epoch\")\n",
        "plt.ylabel(\"Accuracy\")\n",
        "plt.legend([\"train\",\"Validation\"])\n",
        "plt.show()"
      ]
    },
    {
      "cell_type": "code",
      "execution_count": null,
      "id": "637120c8",
      "metadata": {
        "id": "637120c8",
        "outputId": "39c7e06a-efad-48d7-c0a0-b4eda53a48a3"
      },
      "outputs": [
        {
          "data": {
            "image/png": "[encoded data removed]",
            "text/plain": [
              "<Figure size 432x288 with 1 Axes>"
            ]
          },
          "metadata": {
            "needs_background": "light"
          },
          "output_type": "display_data"
        }
      ],
      "source": [
        "import matplotlib.pyplot as plt\n",
        "%matplotlib inline\n",
        "plt.plot(history.history['loss'])\n",
        "plt.plot(history.history['val_loss'])\n",
        "plt.title(\"Loss\")\n",
        "plt.xlabel(\"Epoch\")\n",
        "plt.ylabel(\"Loss\")\n",
        "plt.legend([\"train\",\"Validation\"])\n",
        "plt.show()"
      ]
    },
    {
      "cell_type": "code",
      "execution_count": null,
      "id": "10e33e01",
      "metadata": {
        "id": "10e33e01",
        "outputId": "56804403-e4f9-4c11-aebf-d3159eb3b8fc"
      },
      "outputs": [
        {
          "data": {
            "image/png": "[encoded data removed]",
            "text/plain": [
              "<Figure size 432x288 with 1 Axes>"
            ]
          },
          "metadata": {
            "needs_background": "light"
          },
          "output_type": "display_data"
        }
      ],
      "source": [
        "import matplotlib.pyplot as plt\n",
        "%matplotlib inline\n",
        "plt.plot(history.history['val_accuracy'])\n",
        "plt.plot(history.history['val_loss'])\n",
        "plt.title(\"validation\")\n",
        "plt.xlabel(\"Epoch\")\n",
        "plt.ylabel(\"Accuracy&Loss\")\n",
        "plt.legend([\"accuracy\",\"loss\"])\n",
        "plt.show()"
      ]
    },
    {
      "cell_type": "code",
      "execution_count": null,
      "id": "a93c5d4b",
      "metadata": {
        "id": "a93c5d4b",
        "outputId": "8e52550d-8cd6-4c6b-ef45-597404b4c47e"
      },
      "outputs": [
        {
          "data": {
            "image/png": "[encoded data removed]",
            "text/plain": [
              "<Figure size 432x288 with 1 Axes>"
            ]
          },
          "metadata": {
            "needs_background": "light"
          },
          "output_type": "display_data"
        }
      ],
      "source": [
        "import matplotlib.pyplot as plt\n",
        "%matplotlib inline\n",
        "plt.plot(history.history['accuracy'])\n",
        "plt.plot(history.history['loss'])\n",
        "plt.title(\"Training\")\n",
        "plt.xlabel(\"Epoch\")\n",
        "plt.ylabel(\"Accuracy&Loss\")\n",
        "plt.legend([\"accuracy\",\"loss\"])\n",
        "plt.show()"
      ]
    }
  ],
  "metadata": {
    "kernelspec": {
      "display_name": "Python 3 (ipykernel)",
      "language": "python",
      "name": "python3"
    },
    "language_info": {
      "codemirror_mode": {
        "name": "ipython",
        "version": 3
      },
      "file_extension": ".py",
      "mimetype": "text/x-python",
      "name": "python",
      "nbconvert_exporter": "python",
      "pygments_lexer": "ipython3",
      "version": "3.8.8"
    },
    "colab": {
      "provenance": []
    }
  },
  "nbformat": 4,
  "nbformat_minor": 5
}